{
 "cells": [
  {
   "cell_type": "code",
   "execution_count": 1,
   "metadata": {},
   "outputs": [
    {
     "data": {
      "text/plain": [
       "count    1.325577e+06\n",
       "mean     6.954604e+00\n",
       "std      1.382612e+00\n",
       "min      1.000000e+00\n",
       "25%      6.200000e+00\n",
       "50%      7.100000e+00\n",
       "75%      7.900000e+00\n",
       "max      1.000000e+01\n",
       "Name: averageRating, dtype: float64"
      ]
     },
     "metadata": {},
     "output_type": "display_data"
    },
    {
     "data": {
      "text/plain": [
       "count    1.325577e+06\n",
       "mean     1.038440e+03\n",
       "std      1.747023e+04\n",
       "min      5.000000e+00\n",
       "25%      1.100000e+01\n",
       "50%      2.600000e+01\n",
       "75%      1.010000e+02\n",
       "max      2.758725e+06\n",
       "Name: numVotes, dtype: float64"
      ]
     },
     "metadata": {},
     "output_type": "display_data"
    },
    {
     "data": {
      "text/plain": [
       "count    1.325341e+06\n",
       "mean     2.002414e+03\n",
       "std      2.121270e+01\n",
       "min      1.874000e+03\n",
       "25%      1.996000e+03\n",
       "50%      2.010000e+03\n",
       "75%      2.017000e+03\n",
       "max      2.023000e+03\n",
       "Name: startYear, dtype: float64"
      ]
     },
     "metadata": {},
     "output_type": "display_data"
    }
   ],
   "source": [
    "import pandas as pd\n",
    "\n",
    "# title_basic.tsv 과 title_ratigns_tsv inner join 한 파일\n",
    "title_basic_ratings_df = pd.read_csv('C:/Users/Hi/Desktop/recsys-movie/CB\\data/title_basic_ratings_df.csv', index_col=0)\n",
    "\n",
    "display(\n",
    "  title_basic_ratings_df['averageRating'].describe(), \n",
    "  title_basic_ratings_df['numVotes'].describe(),\n",
    "  title_basic_ratings_df['startYear'].describe()\n",
    ")"
   ]
  },
  {
   "cell_type": "code",
   "execution_count": 6,
   "metadata": {},
   "outputs": [
    {
     "data": {
      "text/plain": [
       "1333.0"
      ]
     },
     "execution_count": 6,
     "metadata": {},
     "output_type": "execute_result"
    }
   ],
   "source": [
    "import numpy as np\n",
    "\n",
    "np.quantile(title_basic_ratings_df['numVotes'].tolist(), 0.95)"
   ]
  },
  {
   "cell_type": "code",
   "execution_count": 7,
   "metadata": {},
   "outputs": [
    {
     "data": {
      "text/plain": [
       "4023"
      ]
     },
     "execution_count": 7,
     "metadata": {},
     "output_type": "execute_result"
    }
   ],
   "source": [
    "cond1 = title_basic_ratings_df['averageRating'] > 7.900000e+00 # 평균평점이 7점 이상 , 상위 75% 기준\n",
    "cond2 = title_basic_ratings_df['numVotes'] > 1333 # 투표 수가 1333개 이상 , 상위 95% 기준\n",
    "cond3 = title_basic_ratings_df['startYear'] > 2.017000e+03 # 시작일이 2017년 이후인 것 , 75% 기준\n",
    "\n",
    "candidate_list = title_basic_ratings_df[cond1 & cond2 & cond3]['tconst'].tolist()\n",
    "len(candidate_list)"
   ]
  },
  {
   "cell_type": "code",
   "execution_count": 2,
   "metadata": {},
   "outputs": [
    {
     "data": {
      "text/plain": [
       "5"
      ]
     },
     "execution_count": 2,
     "metadata": {},
     "output_type": "execute_result"
    }
   ],
   "source": [
    "import modules as m \n",
    "\n",
    "len(m.load_pickle('C:/Users/Hi/Desktop/recsys-movie/MF/data/scraping_results/results_2.pickle'))"
   ]
  },
  {
   "cell_type": "code",
   "execution_count": 1,
   "metadata": {},
   "outputs": [],
   "source": [
    "import modules as m\n",
    "\n",
    "result_2 = []\n",
    "for i in [23, 1000, 2000, 3000, 4000]:\n",
    "  result_2.extend(m.load_pickle(f'C:/Users/Hi/Desktop/recsys-movie/MF/data/scraping_results/results_2_{i}.pickle'))"
   ]
  },
  {
   "cell_type": "code",
   "execution_count": 6,
   "metadata": {},
   "outputs": [],
   "source": [
    "m.save_result_to_pickle('C:/Users/Hi/Desktop/recsys-movie/MF/data/scraping_results/results_2.pickle', result_2)"
   ]
  },
  {
   "cell_type": "code",
   "execution_count": 7,
   "metadata": {},
   "outputs": [
    {
     "data": {
      "text/plain": [
       "4023"
      ]
     },
     "execution_count": 7,
     "metadata": {},
     "output_type": "execute_result"
    }
   ],
   "source": [
    "len(m.load_pickle('C:/Users/Hi/Desktop/recsys-movie/MF/data/scraping_results/results_2.pickle'))"
   ]
  },
  {
   "cell_type": "code",
   "execution_count": null,
   "metadata": {},
   "outputs": [],
   "source": []
  }
 ],
 "metadata": {
  "kernelspec": {
   "display_name": "quant_39",
   "language": "python",
   "name": "quant_39"
  },
  "language_info": {
   "codemirror_mode": {
    "name": "ipython",
    "version": 3
   },
   "file_extension": ".py",
   "mimetype": "text/x-python",
   "name": "python",
   "nbconvert_exporter": "python",
   "pygments_lexer": "ipython3",
   "version": "3.9.13"
  },
  "orig_nbformat": 4
 },
 "nbformat": 4,
 "nbformat_minor": 2
}
